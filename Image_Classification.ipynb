{
  "nbformat": 4,
  "nbformat_minor": 0,
  "metadata": {
    "colab": {
      "name": "Untitled4.ipynb",
      "provenance": [],
      "collapsed_sections": [],
      "authorship_tag": "ABX9TyMoR49/Bb+yPv/HRXayKmco",
      "include_colab_link": true
    },
    "kernelspec": {
      "name": "python3",
      "display_name": "Python 3"
    },
    "language_info": {
      "name": "python"
    }
  },
  "cells": [
    {
      "cell_type": "markdown",
      "metadata": {
        "id": "view-in-github",
        "colab_type": "text"
      },
      "source": [
        "<a href=\"https://colab.research.google.com/github/heyiamaditya/Image_Classification/blob/main/Image_Classification.ipynb\" target=\"_parent\"><img src=\"https://colab.research.google.com/assets/colab-badge.svg\" alt=\"Open In Colab\"/></a>"
      ]
    },
    {
      "cell_type": "code",
      "metadata": {
        "id": "R7cDjsz2ZB9N"
      },
      "source": [
        "#Description : This program classifies images"
      ],
      "execution_count": null,
      "outputs": []
    },
    {
      "cell_type": "code",
      "metadata": {
        "id": "9akeIUxQgwNP"
      },
      "source": [
        "!pip install keras"
      ],
      "execution_count": null,
      "outputs": []
    },
    {
      "cell_type": "code",
      "metadata": {
        "id": "zH0MukLTlE3G"
      },
      "source": [
        "!pip install keras.models"
      ],
      "execution_count": null,
      "outputs": []
    },
    {
      "cell_type": "code",
      "metadata": {
        "id": "a9zRkDeZdnqc"
      },
      "source": [
        "\n",
        "#Import the liabries\n",
        "import tensorflow as tf\n",
        "from tensorflow import keras\n",
        "from keras.models import Sequential\n",
        "from keras.layers import Dense, Flatten, Conv2D, MaxPooling2D, Dropout\n",
        "from tensorflow.keras import layers\n",
        "from keras.utils import to_categorical\n",
        "import numpy as np\n",
        "import matplotlib.pyplot as plt\n",
        "#plt.style.available\n",
        "plt.style.use('fivethirtyeight')"
      ],
      "execution_count": null,
      "outputs": []
    },
    {
      "cell_type": "code",
      "metadata": {
        "id": "nWTzC_mf1isK"
      },
      "source": [
        "#Load the data\n",
        "from keras.datasets import cifar10\n",
        "(x_train,y_train),(x_test,y_test)=cifar10.load_data() "
      ],
      "execution_count": null,
      "outputs": []
    },
    {
      "cell_type": "code",
      "metadata": {
        "colab": {
          "base_uri": "https://localhost:8080/"
        },
        "id": "NTs59pOG2wrC",
        "outputId": "f389ad2d-8f1e-48a8-cb9c-b944e09afbfc"
      },
      "source": [
        "#Look at the datatypes of the variables\n",
        "print(type(x_train))\n",
        "print(type(y_train))\n",
        "print(type(x_test))\n",
        "print(type(y_test))"
      ],
      "execution_count": null,
      "outputs": [
        {
          "output_type": "stream",
          "text": [
            "<class 'numpy.ndarray'>\n",
            "<class 'numpy.ndarray'>\n",
            "<class 'numpy.ndarray'>\n",
            "<class 'numpy.ndarray'>\n"
          ],
          "name": "stdout"
        }
      ]
    },
    {
      "cell_type": "code",
      "metadata": {
        "colab": {
          "base_uri": "https://localhost:8080/"
        },
        "id": "IEuo7RsU3Njx",
        "outputId": "8439e2bf-a8cb-444f-f39a-c7cf2702e6e5"
      },
      "source": [
        "#Get the shape of Arrays\n",
        "print('x_train_shape',x_train.shape)\n",
        "print('y_train_shape',y_train.shape)\n",
        "print('x_test_shape',x_test.shape)\n",
        "print('y_test_shape',y_test.shape)\n"
      ],
      "execution_count": null,
      "outputs": [
        {
          "output_type": "stream",
          "text": [
            "x_train_shape (50000, 32, 32, 3)\n",
            "y_train_shape (50000, 1)\n",
            "x_test_shape (10000, 32, 32, 3)\n",
            "y_test_shape (10000, 1)\n"
          ],
          "name": "stdout"
        }
      ]
    },
    {
      "cell_type": "code",
      "metadata": {
        "id": "Ns2hLax33NlC",
        "colab": {
          "base_uri": "https://localhost:8080/"
        },
        "outputId": "250b646e-71e7-473e-8fec-38a1c98c771e"
      },
      "source": [
        "#Take a look at he first image as an array\n",
        "index=50\n",
        "x_train[index]"
      ],
      "execution_count": 69,
      "outputs": [
        {
          "output_type": "execute_result",
          "data": {
            "text/plain": [
              "array([[[0.0627451 , 0.29803922, 0.29019608],\n",
              "        [0.06666667, 0.30196078, 0.29411765],\n",
              "        [0.06666667, 0.30196078, 0.29411765],\n",
              "        ...,\n",
              "        [0.24313725, 0.41568627, 0.34117647],\n",
              "        [0.21568627, 0.38823529, 0.31372549],\n",
              "        [0.2       , 0.36862745, 0.29411765]],\n",
              "\n",
              "       [[0.0627451 , 0.29803922, 0.29019608],\n",
              "        [0.0627451 , 0.29803922, 0.29019608],\n",
              "        [0.05882353, 0.29411765, 0.29019608],\n",
              "        ...,\n",
              "        [0.24313725, 0.42745098, 0.32941176],\n",
              "        [0.22745098, 0.41176471, 0.31372549],\n",
              "        [0.20392157, 0.39215686, 0.29411765]],\n",
              "\n",
              "       [[0.0627451 , 0.29803922, 0.29019608],\n",
              "        [0.05882353, 0.29411765, 0.28627451],\n",
              "        [0.05882353, 0.29411765, 0.28627451],\n",
              "        ...,\n",
              "        [0.22352941, 0.43137255, 0.30980392],\n",
              "        [0.23137255, 0.43529412, 0.31372549],\n",
              "        [0.21960784, 0.42745098, 0.30588235]],\n",
              "\n",
              "       ...,\n",
              "\n",
              "       [[0.37647059, 0.43137255, 0.54117647],\n",
              "        [0.44705882, 0.49803922, 0.62352941],\n",
              "        [0.46666667, 0.51764706, 0.65490196],\n",
              "        ...,\n",
              "        [0.50196078, 0.52941176, 0.6       ],\n",
              "        [0.47058824, 0.50980392, 0.56862745],\n",
              "        [0.45882353, 0.51372549, 0.55686275]],\n",
              "\n",
              "       [[0.4627451 , 0.51764706, 0.62352941],\n",
              "        [0.39215686, 0.44313725, 0.56862745],\n",
              "        [0.44705882, 0.49411765, 0.63921569],\n",
              "        ...,\n",
              "        [0.54509804, 0.57254902, 0.62352941],\n",
              "        [0.51372549, 0.54901961, 0.6       ],\n",
              "        [0.4745098 , 0.5254902 , 0.57647059]],\n",
              "\n",
              "       [[0.56470588, 0.58039216, 0.67843137],\n",
              "        [0.53333333, 0.54901961, 0.65882353],\n",
              "        [0.41176471, 0.44705882, 0.56078431],\n",
              "        ...,\n",
              "        [0.56862745, 0.59215686, 0.66666667],\n",
              "        [0.5372549 , 0.56470588, 0.63921569],\n",
              "        [0.51372549, 0.55294118, 0.61960784]]])"
            ]
          },
          "metadata": {
            "tags": []
          },
          "execution_count": 69
        }
      ]
    },
    {
      "cell_type": "code",
      "metadata": {
        "colab": {
          "base_uri": "https://localhost:8080/",
          "height": 284
        },
        "id": "h6s-4wBa4LdN",
        "outputId": "c2eac2e6-d0ff-46c8-fe90-1c66c93d066f"
      },
      "source": [
        "#show the image as a picture\n",
        "img= plt.imshow(x_train[index])"
      ],
      "execution_count": 70,
      "outputs": [
        {
          "output_type": "display_data",
          "data": {
            "image/png": "[encoded data removed]",
            "text/plain": [
              "<Figure size 432x288 with 1 Axes>"
            ]
          },
          "metadata": {
            "tags": []
          }
        }
      ]
    },
    {
      "cell_type": "code",
      "metadata": {
        "colab": {
          "base_uri": "https://localhost:8080/"
        },
        "id": "hLxtNBeC4b7v",
        "outputId": "d9f5c647-a05b-407b-a94a-2ccd5039a6d6"
      },
      "source": [
        "#Get the image Label\n",
        "print('The image label is:', y_train[index] )"
      ],
      "execution_count": 71,
      "outputs": [
        {
          "output_type": "stream",
          "text": [
            "The image label is: [9]\n"
          ],
          "name": "stdout"
        }
      ]
    },
    {
      "cell_type": "code",
      "metadata": {
        "colab": {
          "base_uri": "https://localhost:8080/"
        },
        "id": "iadJ4cFD4ebS",
        "outputId": "ec8aa40c-e71c-49c2-c02f-68699e75e1ea"
      },
      "source": [
        "#Get the image classification\n",
        "classification= ['airplane', 'automobile', 'bird', 'cat', ' deer', 'dog', 'frog', 'horse', 'ship', 'truck']\n",
        "#print the image class\n",
        "print('The image classification is:',classification[y_train[index][0]] )"
      ],
      "execution_count": 72,
      "outputs": [
        {
          "output_type": "stream",
          "text": [
            "The image classification is: truck\n"
          ],
          "name": "stdout"
        }
      ]
    },
    {
      "cell_type": "code",
      "metadata": {
        "id": "AQlJfoMO6k5o"
      },
      "source": [
        "#convert the labels into a set of 10 numbera to input the neural network\n",
        "y_train_one_hot= to_categorical(y_train)\n",
        "y_test_one_hot= to_categorical(y_train)"
      ],
      "execution_count": null,
      "outputs": []
    },
    {
      "cell_type": "code",
      "metadata": {
        "colab": {
          "base_uri": "https://localhost:8080/"
        },
        "id": "bihuF4v76Sp9",
        "outputId": "3f677b5e-3c61-44ab-ac20-2ef475b611e8"
      },
      "source": [
        "#print the new labels\n",
        "print(y_train_one_hot)"
      ],
      "execution_count": null,
      "outputs": [
        {
          "output_type": "stream",
          "text": [
            "[[0. 0. 0. ... 0. 0. 0.]\n",
            " [0. 0. 0. ... 0. 0. 1.]\n",
            " [0. 0. 0. ... 0. 0. 1.]\n",
            " ...\n",
            " [0. 0. 0. ... 0. 0. 1.]\n",
            " [0. 1. 0. ... 0. 0. 0.]\n",
            " [0. 1. 0. ... 0. 0. 0.]]\n"
          ],
          "name": "stdout"
        }
      ]
    },
    {
      "cell_type": "code",
      "metadata": {
        "colab": {
          "base_uri": "https://localhost:8080/"
        },
        "id": "Z2mLNmig7VF_",
        "outputId": "7e1c4ffc-9256-4a98-a13c-74348aec45a1"
      },
      "source": [
        "#print the new labels of the image/picture above\n",
        "print('The one hot label is:', y_train_one_hot[index])"
      ],
      "execution_count": null,
      "outputs": [
        {
          "output_type": "stream",
          "text": [
            "The one hot label is: [0. 0. 0. 0. 1. 0. 0. 0. 0. 0.]\n"
          ],
          "name": "stdout"
        }
      ]
    },
    {
      "cell_type": "code",
      "metadata": {
        "id": "Ojzogx4p8zLO"
      },
      "source": [
        "#Normalize the pixels to be the values b/w   0 and 1\n",
        "x_train = x_train/255\n",
        "x_test = x_test/255"
      ],
      "execution_count": null,
      "outputs": []
    },
    {
      "cell_type": "code",
      "metadata": {
        "colab": {
          "base_uri": "https://localhost:8080/"
        },
        "id": "GDMb3h_r9PSt",
        "outputId": "5b0dc8b0-bd0f-485a-c837-bff293409d60"
      },
      "source": [
        "x_train[index]"
      ],
      "execution_count": null,
      "outputs": [
        {
          "output_type": "execute_result",
          "data": {
            "text/plain": [
              "array([[[0.20784314, 0.25490196, 0.20784314],\n",
              "        [0.21176471, 0.24705882, 0.20392157],\n",
              "        [0.21960784, 0.23529412, 0.19607843],\n",
              "        ...,\n",
              "        [0.18431373, 0.2       , 0.19607843],\n",
              "        [0.16078431, 0.17647059, 0.17254902],\n",
              "        [0.09411765, 0.10980392, 0.10588235]],\n",
              "\n",
              "       [[0.18039216, 0.23137255, 0.16078431],\n",
              "        [0.20784314, 0.24313725, 0.17647059],\n",
              "        [0.21176471, 0.23137255, 0.17254902],\n",
              "        ...,\n",
              "        [0.16470588, 0.18039216, 0.17647059],\n",
              "        [0.15294118, 0.16862745, 0.16470588],\n",
              "        [0.10980392, 0.1254902 , 0.12156863]],\n",
              "\n",
              "       [[0.17647059, 0.23137255, 0.14901961],\n",
              "        [0.19607843, 0.23529412, 0.16078431],\n",
              "        [0.18039216, 0.20392157, 0.13333333],\n",
              "        ...,\n",
              "        [0.14901961, 0.16470588, 0.16078431],\n",
              "        [0.14117647, 0.15686275, 0.15294118],\n",
              "        [0.11372549, 0.12941176, 0.1254902 ]],\n",
              "\n",
              "       ...,\n",
              "\n",
              "       [[0.27843137, 0.3254902 , 0.25882353],\n",
              "        [0.29019608, 0.3254902 , 0.25882353],\n",
              "        [0.31372549, 0.33333333, 0.2627451 ],\n",
              "        ...,\n",
              "        [0.2       , 0.21176471, 0.12941176],\n",
              "        [0.18039216, 0.19215686, 0.13333333],\n",
              "        [0.19215686, 0.19607843, 0.16078431]],\n",
              "\n",
              "       [[0.29411765, 0.32156863, 0.2627451 ],\n",
              "        [0.30980392, 0.33333333, 0.27058824],\n",
              "        [0.31764706, 0.33333333, 0.2627451 ],\n",
              "        ...,\n",
              "        [0.23921569, 0.25490196, 0.16078431],\n",
              "        [0.25098039, 0.2627451 , 0.18823529],\n",
              "        [0.18823529, 0.19607843, 0.16078431]],\n",
              "\n",
              "       [[0.33333333, 0.3254902 , 0.27843137],\n",
              "        [0.33333333, 0.32941176, 0.27843137],\n",
              "        [0.3372549 , 0.3372549 , 0.2745098 ],\n",
              "        ...,\n",
              "        [0.23921569, 0.25490196, 0.15294118],\n",
              "        [0.25098039, 0.2627451 , 0.18039216],\n",
              "        [0.19215686, 0.19607843, 0.16078431]]])"
            ]
          },
          "metadata": {
            "tags": []
          },
          "execution_count": 50
        }
      ]
    },
    {
      "cell_type": "code",
      "metadata": {
        "id": "PLjNlB5f9apT"
      },
      "source": [
        "# Crete the model architecture\n",
        "model = Sequential()\n",
        "\n",
        "#Add the first layer\n",
        "model.add(Conv2D(32, (5,5), activation='relu', input_shape=(32,32,3)) )\n",
        "\n",
        "#Add a polling alyer\n",
        "model.add(MaxPooling2D(pool_size=(2,2)) )\n",
        "\n",
        "#Add another conolution layer\n",
        "model.add(Conv2D(32, (5,5), activation='relu') )\n",
        "\n",
        "#Add another polling alyer\n",
        "model.add(MaxPooling2D(pool_size=(2,2)) )\n",
        "\n",
        "#Add a flattering layer\n",
        "model.add(Flatten())\n",
        "\n",
        "#Add a layer with 1000 neuron\n",
        "model.add(Dense(1000, activation='relu'))\n",
        "\n",
        "#Add a drop out layer\n",
        "model.add(Dropout(0.5) )\n",
        "\n",
        "#Add a layer with 500 neuron\n",
        "model.add(Dense(500, activation='relu'))\n",
        "\n",
        "#Add a drop out layer\n",
        "model.add(Dropout(0.5) )\n",
        "\n",
        "#Add a layer with 250 neuron\n",
        "model.add(Dense(250, activation='relu'))\n",
        "\n",
        "#Add a layer with 10 neuron\n",
        "model.add(Dense(10, activation='softmax'))\n"
      ],
      "execution_count": null,
      "outputs": []
    },
    {
      "cell_type": "code",
      "metadata": {
        "id": "ACAsbMoB_dMI"
      },
      "source": [
        "#Compile the model\n",
        "model.compile(loss= 'categorical_crossentrophy',\n",
        "              optimizer='adam',\n",
        "              metrics = ['accuracy'])\n"
      ],
      "execution_count": null,
      "outputs": []
    },
    {
      "cell_type": "code",
      "metadata": {
        "id": "M6bf1Qiv92dh"
      },
      "source": [
        ""
      ],
      "execution_count": null,
      "outputs": []
    }
  ]
}